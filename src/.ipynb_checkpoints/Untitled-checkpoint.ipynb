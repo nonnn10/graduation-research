{
 "cells": [
  {
   "cell_type": "code",
   "execution_count": 12,
   "metadata": {},
   "outputs": [
    {
     "name": "stdout",
     "output_type": "stream",
     "text": [
      "[[  6.  154.    0.5 ...   0.5  95.    2. ]\n",
      " [  9.  177.    0.5 ...   0.5  94.    4. ]\n",
      " [  9.  177.    0.5 ...   0.5  94.    4. ]\n",
      " ...\n",
      " [ 14.   53.    0.8 ...   1.3  42.    8. ]\n",
      " [ 27.   20.    0.8 ...   1.6  19.   20. ]\n",
      " [ 25.   17.    0.8 ...   1.3  34.   15. ]]\n",
      "10      0.0\n",
      "11      0.0\n",
      "12      0.0\n",
      "13      0.0\n",
      "14      0.0\n",
      "       ... \n",
      "3191    1.0\n",
      "3192    1.0\n",
      "3193    1.0\n",
      "3194    1.0\n",
      "3195    1.0\n",
      "Name: 1, Length: 3080, dtype: float64\n"
     ]
    }
   ],
   "source": [
    "from sklearn import datasets\n",
    "import pandas as pd\n",
    "\n",
    "#'../data/df_com_all_2/'+route_name+'_'+i+'_'+str(days_ago)+'.csv'\n",
    "route_name = \"hatoma_route\"\n",
    "dep = \"hatoma_dep\"\n",
    "days_ago = 5\n",
    "\n",
    "df = pd.read_csv('../data/df_com_all_2/'+route_name+'_'+dep+'_'+str(days_ago)+'.csv', header=None)\n",
    "\n",
    "df = df.dropna(how='any')#.dropna(subset=[1])\n",
    "\n",
    "import numpy as np\n",
    "from sklearn.preprocessing import LabelEncoder\n",
    "#データのロード\n",
    "X = df.iloc[:,3:12].values\n",
    "print(X)\n",
    "y = df.loc[:, 1]#.values\n",
    "print(y)"
   ]
  },
  {
   "cell_type": "code",
   "execution_count": 13,
   "metadata": {},
   "outputs": [
    {
     "name": "stdout",
     "output_type": "stream",
     "text": [
      "Labels counts in y[0 1]: [2693  387]\n",
      "Labels counts in y_train[0 1]: [2154  310]\n",
      "Labels counts in y_test[0 1]: [539  77]\n"
     ]
    }
   ],
   "source": [
    "#データの分割（テスト用とトレーニング用）\n",
    "from sklearn.model_selection import train_test_split\n",
    "\n",
    "X_train, X_test, y_train, y_test = train_test_split(\n",
    "    X, y, test_size=0.2, random_state=1, stratify=y)\n",
    "print('Labels counts in y[0 1]:', np.bincount(y))\n",
    "print('Labels counts in y_train[0 1]:', np.bincount(y_train))\n",
    "print('Labels counts in y_test[0 1]:', np.bincount(y_test))"
   ]
  },
  {
   "cell_type": "code",
   "execution_count": 14,
   "metadata": {},
   "outputs": [
    {
     "name": "stdout",
     "output_type": "stream",
     "text": [
      "[[-0.12104182 -0.26213059 -0.40611293 ... -0.53030218  0.45012478\n",
      "  -0.21423311]\n",
      " [-0.12104182 -0.07104271 -0.8839841  ... -0.40076271  0.03344557\n",
      "  -0.05819693]\n",
      " [-0.12104182 -0.42774008  0.07175825 ... -0.01214432 -0.776764\n",
      "   0.09783924]\n",
      " ...\n",
      " [-1.75080705  0.01813163 -1.12291969 ... -1.30753895 -0.5684244\n",
      "  -1.77459483]\n",
      " [ 1.50872342 -0.3895225   0.54962943 ...  1.80140816 -0.19804288\n",
      "   1.81423714]\n",
      " [-0.12104182 -0.26213059 -0.40611293 ... -0.53030218  0.45012478\n",
      "  -0.21423311]]\n"
     ]
    }
   ],
   "source": [
    "\n",
    "#標準化\n",
    "from sklearn.preprocessing import StandardScaler\n",
    "\n",
    "sc = StandardScaler()\n",
    "sc.fit(X_train)\n",
    "X_train_std = sc.transform(X_train)\n",
    "X_test_std = sc.transform(X_test)\n",
    "print(X_train_std)"
   ]
  },
  {
   "cell_type": "code",
   "execution_count": 15,
   "metadata": {},
   "outputs": [],
   "source": [
    "from matplotlib.colors import ListedColormap\n",
    "import matplotlib.pyplot as plt\n",
    "\n",
    "\n",
    "def plot_decision_regions(X, y, classifier, test_idx=None, resolution=0.02):\n",
    "\n",
    "    # setup marker generator and color map\n",
    "    markers = ('s', 'x', 'o', '^', 'v')\n",
    "    colors = ('red', 'blue', 'lightgreen', 'gray', 'cyan')\n",
    "    cmap = ListedColormap(colors[:len(np.unique(y))])\n",
    "\n",
    "    # plot the decision surface\n",
    "    x1_min, x1_max = X[:, 0].min() - 1, X[:, 0].max() + 1\n",
    "    x2_min, x2_max = X[:, 1].min() - 1, X[:, 1].max() + 1\n",
    "    xx1, xx2 = np.meshgrid(np.arange(x1_min, x1_max, resolution),\n",
    "                           np.arange(x2_min, x2_max, resolution))\n",
    "    Z = classifier.predict(np.array([xx1.ravel(), xx2.ravel()]).T)\n",
    "    Z = Z.reshape(xx1.shape)\n",
    "    plt.contourf(xx1, xx2, Z, alpha=0.3, cmap=cmap)\n",
    "    plt.xlim(xx1.min(), xx1.max())\n",
    "    plt.ylim(xx2.min(), xx2.max())\n",
    "\n",
    "    for idx, cl in enumerate(np.unique(y)):\n",
    "        plt.scatter(x=X[y == cl, 0], \n",
    "                    y=X[y == cl, 1],\n",
    "                    alpha=0.8, \n",
    "                    c=colors[idx],\n",
    "                    marker=markers[idx], \n",
    "                    label=cl, \n",
    "                    edgecolor='black')\n",
    "\n",
    "    # highlight test samples\n",
    "    if test_idx:\n",
    "        # plot all samples\n",
    "        X_test, y_test = X[test_idx, :], y[test_idx]\n",
    "\n",
    "        plt.scatter(X_test[:, 0],\n",
    "                    X_test[:, 1],\n",
    "                    c='',\n",
    "                    edgecolor='black',\n",
    "                    alpha=1.0,\n",
    "                    linewidth=1,\n",
    "                    marker='o',\n",
    "                    s=100, \n",
    "                    label='test set')"
   ]
  },
  {
   "cell_type": "code",
   "execution_count": 18,
   "metadata": {},
   "outputs": [
    {
     "data": {
      "text/plain": [
       "RandomForestClassifier(n_estimators=25, n_jobs=2, random_state=1)"
      ]
     },
     "execution_count": 18,
     "metadata": {},
     "output_type": "execute_result"
    }
   ],
   "source": [
    "#ランダムフォレスト実行\n",
    "from sklearn.ensemble import RandomForestClassifier\n",
    "\n",
    "forest = RandomForestClassifier(criterion='gini',\n",
    "                                n_estimators=25, \n",
    "                                random_state=1,\n",
    "                                n_jobs=2)\n",
    "forest.fit(X_train_std, y_train)\n"
   ]
  },
  {
   "cell_type": "code",
   "execution_count": 19,
   "metadata": {},
   "outputs": [],
   "source": [
    "y_pred = forest.predict(X_test)"
   ]
  },
  {
   "cell_type": "code",
   "execution_count": 27,
   "metadata": {},
   "outputs": [
    {
     "name": "stdout",
     "output_type": "stream",
     "text": [
      "[[513  26]\n",
      " [ 50  27]]\n"
     ]
    },
    {
     "data": {
      "image/png": "[encoded data removed]",
      "text/plain": [
       "<Figure size 180x180 with 1 Axes>"
      ]
     },
     "metadata": {
      "needs_background": "light"
     },
     "output_type": "display_data"
    }
   ],
   "source": [
    "#混同行列\n",
    "from sklearn.metrics import confusion_matrix\n",
    "\n",
    "forest.fit(X_train_std, y_train)\n",
    "y_pred = forest.predict(X_test_std)\n",
    "confmat = confusion_matrix(y_true=y_test, y_pred=y_pred)\n",
    "print(confmat)\n",
    "\n",
    "fig, ax = plt.subplots(figsize=(2.5, 2.5))\n",
    "ax.matshow(confmat, cmap=plt.cm.Blues, alpha=0.3)\n",
    "for i in range(confmat.shape[0]):\n",
    "    for j in range(confmat.shape[1]):\n",
    "        ax.text(x=j, y=i, s=confmat[i, j], va='center', ha='center')\n",
    "\n",
    "plt.xlabel('Predicted label')\n",
    "plt.ylabel('True label')\n",
    "\n",
    "plt.tight_layout()\n",
    "#plt.savefig('images/06_09.png', dpi=300)\n",
    "plt.show()"
   ]
  },
  {
   "cell_type": "code",
   "execution_count": 30,
   "metadata": {},
   "outputs": [
    {
     "name": "stdout",
     "output_type": "stream",
     "text": [
      "Precision: 0.509\n",
      "Recall: 0.351\n",
      "F1: 0.415\n"
     ]
    }
   ],
   "source": [
    "#適合率、再現率、F1スコア\n",
    "from sklearn.metrics import precision_score, recall_score, f1_score\n",
    "\n",
    "print('Precision: %.3f' % precision_score(y_true=y_test, y_pred=y_pred))\n",
    "print('Recall: %.3f' % recall_score(y_true=y_test, y_pred=y_pred))\n",
    "print('F1: %.3f' % f1_score(y_true=y_test, y_pred=y_pred))"
   ]
  },
  {
   "cell_type": "code",
   "execution_count": 31,
   "metadata": {},
   "outputs": [
    {
     "name": "stdout",
     "output_type": "stream",
     "text": [
      "Test Accuracy: 0.877\n"
     ]
    }
   ],
   "source": [
    "print('Test Accuracy: %.3f' % forest.score(X_test_std, y_test))"
   ]
  },
  {
   "cell_type": "code",
   "execution_count": 33,
   "metadata": {},
   "outputs": [
    {
     "name": "stdout",
     "output_type": "stream",
     "text": [
      "正解率 0.6512059369202227\n"
     ]
    }
   ],
   "source": [
    "import sklearn.metrics as metrics\n",
    "def accuracy_rate(y_test,y_pred):\n",
    "    \"\"\"予測結果から正解率を表示\n",
    "        Args:\n",
    "            y_test:\n",
    "                予測に使用したデータのラベル(目的変数)\n",
    "            y_pred:\n",
    "                予測結果\n",
    "    \"\"\"\n",
    "    fpr, tpr, thresholds = metrics.roc_curve(y_test, y_pred)\n",
    "    auc = metrics.auc(fpr, tpr)\n",
    "    print(\"正解率\",auc)\n",
    "accuracy_rate(y_test,y_pred)"
   ]
  },
  {
   "cell_type": "code",
   "execution_count": null,
   "metadata": {},
   "outputs": [],
   "source": []
  }
 ],
 "metadata": {
  "kernelspec": {
   "display_name": "Python 3",
   "language": "python",
   "name": "python3"
  },
  "language_info": {
   "codemirror_mode": {
    "name": "ipython",
    "version": 3
   },
   "file_extension": ".py",
   "mimetype": "text/x-python",
   "name": "python",
   "nbconvert_exporter": "python",
   "pygments_lexer": "ipython3",
   "version": "3.7.3"
  }
 },
 "nbformat": 4,
 "nbformat_minor": 4
}
