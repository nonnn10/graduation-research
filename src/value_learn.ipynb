{
 "cells": [
  {
   "cell_type": "code",
   "execution_count": 1,
   "metadata": {},
   "outputs": [
    {
     "name": "stdout",
     "output_type": "stream",
     "text": [
      "             0           1           2           3           4           5  \\\n",
      "0   2020-08-13  2020-08-14  2020-08-15  2020-08-16  2020-08-17  2020-08-18   \n",
      "1   2020-09-01  2020-09-02  2020-09-03  2020-09-04  2020-09-05  2020-09-06   \n",
      "2   2020-09-02  2020-09-03  2020-09-04  2020-09-05  2020-09-06  2020-09-07   \n",
      "3   2020-09-03  2020-09-04  2020-09-05  2020-09-06  2020-09-07  2020-09-08   \n",
      "4   2020-09-04  2020-09-05  2020-09-06  2020-09-07  2020-09-08  2020-09-09   \n",
      "..         ...         ...         ...         ...         ...         ...   \n",
      "63  2020-12-13  2020-12-14  2020-12-15  2020-12-16  2020-12-17  2020-12-18   \n",
      "64  2020-12-14  2020-12-15  2020-12-16  2020-12-17  2020-12-18  2020-12-19   \n",
      "65  2020-12-15  2020-12-16  2020-12-17  2020-12-18  2020-12-19  2020-12-20   \n",
      "66  2020-12-16  2020-12-17  2020-12-18  2020-12-19  2020-12-20  2020-12-21   \n",
      "67  2020-12-17  2020-12-18  2020-12-19  2020-12-20  2020-12-21  2020-12-22   \n",
      "\n",
      "             6           7           8           9  \n",
      "0   2020-08-19  2020-08-20  2020-08-21  2020-08-22  \n",
      "1   2020-09-07  2020-09-08  2020-09-09  2020-09-10  \n",
      "2   2020-09-08  2020-09-09  2020-09-10  2020-09-11  \n",
      "3   2020-09-09  2020-09-10  2020-09-11  2020-09-12  \n",
      "4   2020-09-10  2020-09-11  2020-09-12  2020-09-13  \n",
      "..         ...         ...         ...         ...  \n",
      "63  2020-12-19  2020-12-20  2020-12-21  2020-12-22  \n",
      "64  2020-12-20  2020-12-21  2020-12-22  2020-12-23  \n",
      "65  2020-12-21  2020-12-22  2020-12-23  2020-12-24  \n",
      "66  2020-12-22  2020-12-23  2020-12-24  2020-12-25  \n",
      "67  2020-12-23  2020-12-24  2020-12-25  2020-12-26  \n",
      "\n",
      "[68 rows x 10 columns]\n"
     ]
    }
   ],
   "source": [
    "\"\"\"\n",
    "まずは\n",
    "\"\"\"\n",
    "import pandas as pd\n",
    "\n",
    "dir = \"../data/\"\n",
    "\n",
    "df = pd.read_csv(dir + \"windy_value/date/value_bottom_val_date.csv\", header=None)\n",
    "print(df)\n",
    "\n",
    "#dataディレクトリの下のディレクトリ\n",
    "windy_value = [\"date\",\"max_windy_speed\",\"swell\",\"swell_spacing\",\"time_hour\",\"wave_height\",\"wind_speed\"]\n",
    "\n",
    "#data/*/ディレクトリの中の*_top_*.csvファイル\n",
    "value_top_data = [\"value_top_val_date.csv\",\"value_top_val_max_wind_speed.csv\",\"value_top_val_swell.csv\",\n",
    "                  \"value_top_val_swell_spacing.csv\",\"value_top_val_time_hour.csv\",\"value_top_val_wave_height.csv\",\n",
    "                 \"value_top_val_wind_speed.csv\"]"
   ]
  },
  {
   "cell_type": "code",
   "execution_count": 2,
   "metadata": {},
   "outputs": [],
   "source": [
    "    eng_name_dic = {\n",
    "        \"taketomi_route\" : [\"isigaki_dep\", \"taketomi_dep\"],\n",
    "        \"kurosima_route\" : [\"isigaki_dep\", \"kurosima_dep\"],\n",
    "        \"kohama_route\" : [\"isigaki_dep\", \"tkohama_dep\"],\n",
    "        \"iriomote_uehara_route\" : [\"isigaki_dep\", \"tuehara_dep\"],\n",
    "        \"hatoma_route\" : [\"isigaki_dep\", \"hatoma_dep\"],\n",
    "        \"iriomote_ohara_route\" : [\"isigaki_dep\", \"ohara_dep\"],\n",
    "       \"hateruma_route\" : [\"isigaki_dep\", \"hateruma_dep\"]\n",
    "                                               } "
   ]
  },
  {
   "cell_type": "code",
   "execution_count": 3,
   "metadata": {},
   "outputs": [
    {
     "name": "stdout",
     "output_type": "stream",
     "text": [
      "['2020-08-02']\n",
      "Empty DataFrame\n",
      "Columns: [0, 1, 2, 3, 4, 5, 6, 7, 8, 9]\n",
      "Index: []\n",
      "0\n"
     ]
    }
   ],
   "source": [
    "import pathlib\n",
    "import glob\n",
    "import re\n",
    "import pprint\n",
    "import os\n",
    "\n",
    "csv_file = [os.path.basename(p) for p in glob.glob(dir + '/route/taketomi_route/isigaki_dep/*', recursive=True)\n",
    "     if os.path.isfile(p) and re.search(r'2020-[0|1][8|9|10|11|12]-.*',p)]\n",
    "csv_file = sorted(csv_file)\n",
    "\n",
    "#print(csv_file)\n",
    "\n",
    "print(re.findall('(.*).csv', csv_file[0]))\n",
    "date_data = re.findall('(.*).csv', csv_file[0])\n",
    "# ['2020-08-01']\n",
    "\n",
    "date_in = df[df[0].isin([date_data])]\n",
    "print(date_in)\n",
    "\n",
    "df_bool = df[0] == date_data[0]\n",
    "print(df_bool.values.sum())\n",
    "if df_bool.values.sum() == 0:\n",
    "    #for文continu\n",
    "    pass\n",
    "else:\n",
    "    #日付がある場合なら処理(windy_valueがあるということ)\n",
    "    \n",
    "    pass\n",
    "\n"
   ]
  },
  {
   "cell_type": "code",
   "execution_count": 15,
   "metadata": {},
   "outputs": [
    {
     "name": "stdout",
     "output_type": "stream",
     "text": [
      "../data/route/taketomi_route/isigaki_dep/2020-08-14.csv\n",
      "        0  1          2\n",
      "0   07:30  0 2020-08-14\n",
      "1   08:30  0 2020-08-14\n",
      "2   09:30  0 2020-08-14\n",
      "3   10:30  0 2020-08-14\n",
      "4   11:30  0 2020-08-14\n",
      "5   13:00  0 2020-08-14\n",
      "6   14:00  0 2020-08-14\n",
      "7   15:00  0 2020-08-14\n",
      "8   16:00  0 2020-08-14\n",
      "9   17:00  0 2020-08-14\n",
      "10  18:00  0 2020-08-14\n",
      "2020-07-30 00:00:00\n",
      "<class 'pandas._libs.tslibs.timestamps.Timestamp'>\n",
      "2020-07-30 00:00:00\n",
      "<class 'pandas._libs.tslibs.timestamps.Timestamp'>\n",
      "2020-07-30 00:00:00\n",
      "<class 'pandas._libs.tslibs.timestamps.Timestamp'>\n",
      "2020-07-30 00:00:00\n",
      "<class 'pandas._libs.tslibs.timestamps.Timestamp'>\n",
      "2020-07-30 00:00:00\n",
      "<class 'pandas._libs.tslibs.timestamps.Timestamp'>\n",
      "2020-07-30 00:00:00\n",
      "<class 'pandas._libs.tslibs.timestamps.Timestamp'>\n",
      "2020-07-30 00:00:00\n",
      "<class 'pandas._libs.tslibs.timestamps.Timestamp'>\n",
      "2020-07-30 00:00:00\n",
      "<class 'pandas._libs.tslibs.timestamps.Timestamp'>\n",
      "2020-07-30 00:00:00\n",
      "<class 'pandas._libs.tslibs.timestamps.Timestamp'>\n",
      "2020-07-30 00:00:00\n",
      "<class 'pandas._libs.tslibs.timestamps.Timestamp'>\n",
      "2020-07-30 00:00:00\n",
      "<class 'pandas._libs.tslibs.timestamps.Timestamp'>\n"
     ]
    }
   ],
   "source": [
    "#日付の計算を行うための\n",
    "import pandas.tseries.offsets as offsets\n",
    "\n",
    "dir_label = dir + 'route/taketomi_route/isigaki_dep/' +csv_file[12]\n",
    "print(dir_label)\n",
    "def label_df(dir_label) :\n",
    "    df = pd.read_csv(dir_label, header=None)\n",
    "    df[2]= pd.to_datetime(df[2])\n",
    "    print(df)\n",
    "    for row in df.itertuples():\n",
    "        print(row[3]+offsets.Day(-15))\n",
    "        print(type(row[3]))\n",
    "        #print(row.point)\n",
    "        #if row[0] < \n",
    "    \n",
    "label_df(dir_label)"
   ]
  },
  {
   "cell_type": "code",
   "execution_count": null,
   "metadata": {},
   "outputs": [],
   "source": []
  }
 ],
 "metadata": {
  "kernelspec": {
   "display_name": "Python 3",
   "language": "python",
   "name": "python3"
  },
  "language_info": {
   "codemirror_mode": {
    "name": "ipython",
    "version": 3
   },
   "file_extension": ".py",
   "mimetype": "text/x-python",
   "name": "python",
   "nbconvert_exporter": "python",
   "pygments_lexer": "ipython3",
   "version": "3.7.3"
  }
 },
 "nbformat": 4,
 "nbformat_minor": 4
}
