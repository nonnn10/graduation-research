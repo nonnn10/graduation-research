{
 "cells": [
  {
   "cell_type": "code",
   "execution_count": 120,
   "metadata": {},
   "outputs": [
    {
     "name": "stdout",
     "output_type": "stream",
     "text": [
      "             0           1           2           3           4           5  \\\n",
      "0   2020-08-13  2020-08-14  2020-08-15  2020-08-16  2020-08-17  2020-08-18   \n",
      "1   2020-09-01  2020-09-02  2020-09-03  2020-09-04  2020-09-05  2020-09-06   \n",
      "2   2020-09-02  2020-09-03  2020-09-04  2020-09-05  2020-09-06  2020-09-07   \n",
      "3   2020-09-03  2020-09-04  2020-09-05  2020-09-06  2020-09-07  2020-09-08   \n",
      "4   2020-09-04  2020-09-05  2020-09-06  2020-09-07  2020-09-08  2020-09-09   \n",
      "..         ...         ...         ...         ...         ...         ...   \n",
      "63  2020-12-13  2020-12-14  2020-12-15  2020-12-16  2020-12-17  2020-12-18   \n",
      "64  2020-12-14  2020-12-15  2020-12-16  2020-12-17  2020-12-18  2020-12-19   \n",
      "65  2020-12-15  2020-12-16  2020-12-17  2020-12-18  2020-12-19  2020-12-20   \n",
      "66  2020-12-16  2020-12-17  2020-12-18  2020-12-19  2020-12-20  2020-12-21   \n",
      "67  2020-12-17  2020-12-18  2020-12-19  2020-12-20  2020-12-21  2020-12-22   \n",
      "\n",
      "             6           7           8           9  \n",
      "0   2020-08-19  2020-08-20  2020-08-21  2020-08-22  \n",
      "1   2020-09-07  2020-09-08  2020-09-09  2020-09-10  \n",
      "2   2020-09-08  2020-09-09  2020-09-10  2020-09-11  \n",
      "3   2020-09-09  2020-09-10  2020-09-11  2020-09-12  \n",
      "4   2020-09-10  2020-09-11  2020-09-12  2020-09-13  \n",
      "..         ...         ...         ...         ...  \n",
      "63  2020-12-19  2020-12-20  2020-12-21  2020-12-22  \n",
      "64  2020-12-20  2020-12-21  2020-12-22  2020-12-23  \n",
      "65  2020-12-21  2020-12-22  2020-12-23  2020-12-24  \n",
      "66  2020-12-22  2020-12-23  2020-12-24  2020-12-25  \n",
      "67  2020-12-23  2020-12-24  2020-12-25  2020-12-26  \n",
      "\n",
      "[68 rows x 10 columns]\n"
     ]
    }
   ],
   "source": [
    "\"\"\"\n",
    "まずは\n",
    "\"\"\"\n",
    "import pandas as pd\n",
    "\n",
    "dir = \"../data/\"\n",
    "\n",
    "df = pd.read_csv(dir + \"windy_value/date/value_bottom_val_date.csv\", header=None)\n",
    "print(df)\n",
    "\n",
    "#dataディレクトリの下のディレクトリ\n",
    "windy_value = [\"date\",\"max_wind_speed\",\"swell\",\"swell_spacing\",\"time_hour\",\"wave_height\",\"wind_speed\"]\n",
    "\n",
    "#data/*/ディレクトリの中の*_top_*.csvファイル\n",
    "value_top_data = [\"value_top_val_date.csv\",\"value_top_val_max_wind_speed.csv\",\"value_top_val_swell.csv\",\n",
    "                  \"value_top_val_swell_spacing.csv\",\"value_top_val_time_hour.csv\",\"value_top_val_wave_height.csv\",\n",
    "                 \"value_top_val_wind_speed.csv\"]"
   ]
  },
  {
   "cell_type": "code",
   "execution_count": 121,
   "metadata": {},
   "outputs": [],
   "source": [
    "    eng_name_dic = {\n",
    "        \"taketomi_route\" : [\"isigaki_dep\", \"taketomi_dep\"],\n",
    "        \"kurosima_route\" : [\"isigaki_dep\", \"kurosima_dep\"],\n",
    "        \"kohama_route\" : [\"isigaki_dep\", \"tkohama_dep\"],\n",
    "        \"iriomote_uehara_route\" : [\"isigaki_dep\", \"tuehara_dep\"],\n",
    "        \"hatoma_route\" : [\"isigaki_dep\", \"hatoma_dep\"],\n",
    "        \"iriomote_ohara_route\" : [\"isigaki_dep\", \"ohara_dep\"],\n",
    "       \"hateruma_route\" : [\"isigaki_dep\", \"hateruma_dep\"]\n",
    "                                               } "
   ]
  },
  {
   "cell_type": "code",
   "execution_count": 122,
   "metadata": {},
   "outputs": [
    {
     "name": "stdout",
     "output_type": "stream",
     "text": [
      "['2020-08-01.csv', '2020-08-02.csv', '2020-08-03.csv', '2020-08-04.csv', '2020-08-05.csv', '2020-08-06.csv', '2020-08-07.csv', '2020-08-08.csv', '2020-08-09.csv', '2020-08-10.csv', '2020-08-11.csv', '2020-08-12.csv', '2020-08-13.csv', '2020-08-14.csv', '2020-08-15.csv', '2020-08-16.csv', '2020-08-17.csv', '2020-08-18.csv', '2020-08-19.csv', '2020-08-20.csv', '2020-08-21.csv', '2020-08-22.csv', '2020-08-23.csv', '2020-08-24.csv', '2020-08-25.csv', '2020-08-26.csv', '2020-08-27.csv', '2020-08-28.csv', '2020-08-29.csv', '2020-08-30.csv', '2020-08-31.csv', '2020-09-01.csv', '2020-09-02.csv', '2020-09-03.csv', '2020-09-04.csv', '2020-09-05.csv', '2020-09-06.csv', '2020-09-07.csv', '2020-09-08.csv', '2020-09-09.csv', '2020-09-10.csv', '2020-09-11.csv', '2020-09-12.csv', '2020-09-13.csv', '2020-09-14.csv', '2020-09-15.csv', '2020-09-16.csv', '2020-09-17.csv', '2020-09-18.csv', '2020-09-19.csv', '2020-09-20.csv', '2020-09-21.csv', '2020-09-22.csv', '2020-09-23.csv', '2020-09-24.csv', '2020-09-25.csv', '2020-09-26.csv', '2020-09-27.csv', '2020-09-28.csv', '2020-09-29.csv', '2020-09-30.csv', '2020-10-01.csv', '2020-10-02.csv', '2020-10-03.csv', '2020-10-04.csv', '2020-10-05.csv', '2020-10-06.csv', '2020-10-07.csv', '2020-10-08.csv', '2020-10-09.csv', '2020-10-10.csv', '2020-10-11.csv', '2020-10-12.csv', '2020-10-13.csv', '2020-10-14.csv', '2020-10-15.csv', '2020-10-16.csv', '2020-10-17.csv', '2020-10-18.csv', '2020-10-19.csv', '2020-10-20.csv', '2020-10-21.csv', '2020-10-22.csv', '2020-10-23.csv', '2020-10-24.csv', '2020-10-25.csv', '2020-10-26.csv', '2020-10-27.csv', '2020-10-28.csv', '2020-10-29.csv', '2020-10-30.csv', '2020-10-31.csv', '2020-11-01.csv', '2020-11-02.csv', '2020-11-03.csv', '2020-11-04.csv', '2020-11-05.csv', '2020-11-06.csv', '2020-11-07.csv', '2020-11-08.csv', '2020-11-09.csv', '2020-11-10.csv', '2020-11-11.csv', '2020-11-12.csv', '2020-11-13.csv', '2020-11-14.csv', '2020-11-15.csv', '2020-11-16.csv', '2020-11-17.csv', '2020-11-18.csv', '2020-11-19.csv', '2020-11-20.csv', '2020-11-21.csv', '2020-11-22.csv', '2020-11-23.csv', '2020-11-24.csv', '2020-11-25.csv', '2020-11-26.csv', '2020-11-27.csv', '2020-11-28.csv', '2020-11-29.csv', '2020-11-30.csv', '2020-12-01.csv', '2020-12-02.csv', '2020-12-03.csv', '2020-12-04.csv']\n",
      "['2020-08-01']\n",
      "Empty DataFrame\n",
      "Columns: [0, 1, 2, 3, 4, 5, 6, 7, 8, 9]\n",
      "Index: []\n",
      "0\n"
     ]
    }
   ],
   "source": [
    "import pathlib\n",
    "import glob\n",
    "import re\n",
    "import pprint\n",
    "import os\n",
    "\n",
    "csv_file = [os.path.basename(p) for p in glob.glob(dir + '/route/taketomi_route/isigaki_dep/*', recursive=True)\n",
    "     if os.path.isfile(p) and re.search(r'2020-[0|1][8|9|10|11|12]-.*',p)]\n",
    "csv_file = sorted(csv_file)\n",
    "\n",
    "print(csv_file)\n",
    "\n",
    "#教師データのcsvファイル名の格納\n",
    "print(re.findall('(.*).csv', csv_file[0]))\n",
    "date_data = re.findall('(.*).csv', csv_file[0])\n",
    "# ['2020-08-01']\n",
    "\n",
    "date_in = df[df[0].isin([date_data])]\n",
    "print(date_in)\n",
    "\n",
    "df_bool = df[0] == date_data[0]\n",
    "print(df_bool.values.sum())\n",
    "if df_bool.values.sum() == 0:\n",
    "    #for文continu\n",
    "    pass\n",
    "else:\n",
    "    #日付がある場合なら処理(windy_valueがあるということ)\n",
    "    pass"
   ]
  },
  {
   "cell_type": "code",
   "execution_count": 123,
   "metadata": {},
   "outputs": [
    {
     "ename": "SyntaxError",
     "evalue": "invalid syntax (<ipython-input-123-e77a9f3ccf15>, line 3)",
     "output_type": "error",
     "traceback": [
      "\u001b[0;36m  File \u001b[0;32m\"<ipython-input-123-e77a9f3ccf15>\"\u001b[0;36m, line \u001b[0;32m3\u001b[0m\n\u001b[0;31m    def (windy_value)\u001b[0m\n\u001b[0m        ^\u001b[0m\n\u001b[0;31mSyntaxError\u001b[0m\u001b[0;31m:\u001b[0m invalid syntax\n"
     ]
    }
   ],
   "source": [
    "#windyの数値データのデータフレームをリスト格納\n",
    "#now_windyはまだ\n",
    "def (windy_value)\n",
    "    value_file_list = []\n",
    "    for i in windy_value:\n",
    "        value_file = glob.glob(os.path.join(dir + 'windy_value/'+i+'/', '*'))\n",
    "        #print(dir + 'windy_value/'+i)\n",
    "        value_file = sorted(value_file)\n",
    "        value_file_list.append(value_file)    #2次元配列\n",
    "    #value_file_list = sorted(value_file_list)\n",
    "\n",
    "    #print(value_file_list)\n",
    "\n",
    "    df_7 = []\n",
    "\n",
    "    for i in value_file_list:\n",
    "        print(i)\n",
    "        for l, value in enumerate(i):\n",
    "            #print(l)\n",
    "            df_7.append(pd.read_csv(value, header=None))\n",
    "            #print(df)\n",
    "                #df_7[0] = df\n",
    "\n"
   ]
  },
  {
   "cell_type": "code",
   "execution_count": 124,
   "metadata": {},
   "outputs": [
    {
     "name": "stdout",
     "output_type": "stream",
     "text": [
      "0\n",
      "1\n",
      "2\n",
      "            0           1           2           3           4           5   \\\n",
      "0   2020-08-13  2020-08-14  2020-08-15  2020-08-16  2020-08-17  2020-08-18   \n",
      "1   2020-09-01  2020-09-02  2020-09-03  2020-09-04  2020-09-05  2020-09-06   \n",
      "2   2020-09-02  2020-09-03  2020-09-04  2020-09-05  2020-09-06  2020-09-07   \n",
      "3   2020-09-03  2020-09-04  2020-09-05  2020-09-06  2020-09-07  2020-09-08   \n",
      "4   2020-09-04  2020-09-05  2020-09-06  2020-09-07  2020-09-08  2020-09-09   \n",
      "..         ...         ...         ...         ...         ...         ...   \n",
      "63  2020-12-13  2020-12-14  2020-12-15  2020-12-16  2020-12-17  2020-12-18   \n",
      "64  2020-12-14  2020-12-15  2020-12-16  2020-12-17  2020-12-18  2020-12-19   \n",
      "65  2020-12-15  2020-12-16  2020-12-17  2020-12-18  2020-12-19  2020-12-20   \n",
      "66  2020-12-16  2020-12-17  2020-12-18  2020-12-19  2020-12-20  2020-12-21   \n",
      "67  2020-12-17  2020-12-18  2020-12-19  2020-12-20  2020-12-21  2020-12-22   \n",
      "\n",
      "            6           7           8           9   ...  54  55  56  57    58  \\\n",
      "0   2020-08-19  2020-08-20  2020-08-21  2020-08-22  ...  11  13  12  11  11.0   \n",
      "1   2020-09-07  2020-09-08  2020-09-09  2020-09-10  ...  15  15  11   7   9.0   \n",
      "2   2020-09-08  2020-09-09  2020-09-10  2020-09-11  ...  13  12  14  11  12.0   \n",
      "3   2020-09-09  2020-09-10  2020-09-11  2020-09-12  ...  12  12  15  15   9.0   \n",
      "4   2020-09-10  2020-09-11  2020-09-12  2020-09-13  ...   9  11  12  12   9.0   \n",
      "..         ...         ...         ...         ...  ...  ..  ..  ..  ..   ...   \n",
      "63  2020-12-19  2020-12-20  2020-12-21  2020-12-22  ...  38  38  36  36  33.0   \n",
      "64  2020-12-20  2020-12-21  2020-12-22  2020-12-23  ...  34  32  27  24  22.0   \n",
      "65  2020-12-21  2020-12-22  2020-12-23  2020-12-24  ...  27  27  23  21  17.0   \n",
      "66  2020-12-22  2020-12-23  2020-12-24  2020-12-25  ...  23  20  17  16  11.0   \n",
      "67  2020-12-23  2020-12-24  2020-12-25  2020-12-26  ...  32  36  34  28  22.0   \n",
      "\n",
      "      59    60    61    62    63  \n",
      "0   14.0  15.0  11.0  10.0  11.0  \n",
      "1   12.0   9.0   8.0  10.0  10.0  \n",
      "2   12.0  14.0  15.0  12.0  13.0  \n",
      "3    9.0   9.0  14.0  13.0   9.0  \n",
      "4   11.0  11.0  10.0   9.0  11.0  \n",
      "..   ...   ...   ...   ...   ...  \n",
      "63  34.0  29.0  27.0  23.0  22.0  \n",
      "64  20.0  17.0  13.0  14.0  13.0  \n",
      "65  19.0  18.0  20.0  22.0  26.0  \n",
      "66  36.0  33.0  32.0  27.0  24.0  \n",
      "67  18.0  17.0  14.0  16.0  14.0  \n",
      "\n",
      "[68 rows x 74 columns]\n"
     ]
    }
   ],
   "source": [
    "for i, value in enumerate(df_7):\n",
    "    #print(value)\n",
    "    print(i)\n",
    "    if i == 0:    #bottom\n",
    "        df_top = value\n",
    "    elif i == 1:    #top\n",
    "        df_bottom = value\n",
    "    elif i%2 == 0:\n",
    "        #print(df_top)\n",
    "        df_top = pd.concat([df_top, value], axis=1, join='inner')\n",
    "        print(df_top)\n",
    "        break\n",
    "        "
   ]
  },
  {
   "cell_type": "code",
   "execution_count": 125,
   "metadata": {},
   "outputs": [
    {
     "name": "stdout",
     "output_type": "stream",
     "text": [
      "['2020-08-01.csv', '2020-08-02.csv', '2020-08-03.csv', '2020-08-04.csv', '2020-08-05.csv', '2020-08-06.csv', '2020-08-07.csv', '2020-08-08.csv', '2020-08-09.csv', '2020-08-10.csv', '2020-08-11.csv', '2020-08-12.csv', '2020-08-13.csv', '2020-08-14.csv', '2020-08-15.csv', '2020-08-16.csv', '2020-08-17.csv', '2020-08-18.csv', '2020-08-19.csv', '2020-08-20.csv', '2020-08-21.csv', '2020-08-22.csv', '2020-08-23.csv', '2020-08-24.csv', '2020-08-25.csv', '2020-08-26.csv', '2020-08-27.csv', '2020-08-28.csv', '2020-08-29.csv', '2020-08-30.csv', '2020-08-31.csv', '2020-09-01.csv', '2020-09-02.csv', '2020-09-03.csv', '2020-09-04.csv', '2020-09-05.csv', '2020-09-06.csv', '2020-09-07.csv', '2020-09-08.csv', '2020-09-09.csv', '2020-09-10.csv', '2020-09-11.csv', '2020-09-12.csv', '2020-09-13.csv', '2020-09-14.csv', '2020-09-15.csv', '2020-09-16.csv', '2020-09-17.csv', '2020-09-18.csv', '2020-09-19.csv', '2020-09-20.csv', '2020-09-21.csv', '2020-09-22.csv', '2020-09-23.csv', '2020-09-24.csv', '2020-09-25.csv', '2020-09-26.csv', '2020-09-27.csv', '2020-09-28.csv', '2020-09-29.csv', '2020-09-30.csv', '2020-10-01.csv', '2020-10-02.csv', '2020-10-03.csv', '2020-10-04.csv', '2020-10-05.csv', '2020-10-06.csv', '2020-10-07.csv', '2020-10-08.csv', '2020-10-09.csv', '2020-10-10.csv', '2020-10-11.csv', '2020-10-12.csv', '2020-10-13.csv', '2020-10-14.csv', '2020-10-15.csv', '2020-10-16.csv', '2020-10-17.csv', '2020-10-18.csv', '2020-10-19.csv', '2020-10-20.csv', '2020-10-21.csv', '2020-10-22.csv', '2020-10-23.csv', '2020-10-24.csv', '2020-10-25.csv', '2020-10-26.csv', '2020-10-27.csv', '2020-10-28.csv', '2020-10-29.csv', '2020-10-30.csv', '2020-10-31.csv', '2020-11-01.csv', '2020-11-02.csv', '2020-11-03.csv', '2020-11-04.csv', '2020-11-05.csv', '2020-11-06.csv', '2020-11-07.csv', '2020-11-08.csv', '2020-11-09.csv', '2020-11-10.csv', '2020-11-11.csv', '2020-11-12.csv', '2020-11-13.csv', '2020-11-14.csv', '2020-11-15.csv', '2020-11-16.csv', '2020-11-17.csv', '2020-11-18.csv', '2020-11-19.csv', '2020-11-20.csv', '2020-11-21.csv', '2020-11-22.csv', '2020-11-23.csv', '2020-11-24.csv', '2020-11-25.csv', '2020-11-26.csv', '2020-11-27.csv', '2020-11-28.csv', '2020-11-29.csv', '2020-11-30.csv', '2020-12-01.csv', '2020-12-02.csv', '2020-12-03.csv', '2020-12-04.csv']\n"
     ]
    }
   ],
   "source": [
    "print(csv_file)"
   ]
  },
  {
   "cell_type": "code",
   "execution_count": 126,
   "metadata": {},
   "outputs": [
    {
     "name": "stdout",
     "output_type": "stream",
     "text": [
      "../data/route/taketomi_route/isigaki_dep/2020-08-13.csv\n",
      "        0  1          2\n",
      "0   07:30  0 2020-08-13\n",
      "1   08:30  0 2020-08-13\n",
      "2   09:30  0 2020-08-13\n",
      "3   10:30  0 2020-08-13\n",
      "4   11:30  0 2020-08-13\n",
      "5   13:00  0 2020-08-13\n",
      "6   14:00  0 2020-08-13\n",
      "7   15:00  0 2020-08-13\n",
      "8   16:00  0 2020-08-13\n",
      "9   17:00  0 2020-08-13\n",
      "10  18:00  0 2020-08-13\n",
      "2020-08-13 00:00:00\n",
      "<class 'pandas._libs.tslibs.timestamps.Timestamp'>\n",
      "2020-08-13\n",
      "<class 'pandas.core.frame.DataFrame'> <class 'pandas.core.frame.DataFrame'>\n",
      "2020-08-13 00:00:00\n",
      "<class 'pandas._libs.tslibs.timestamps.Timestamp'>\n",
      "2020-08-13\n",
      "<class 'pandas.core.frame.DataFrame'> <class 'pandas.core.frame.DataFrame'>\n"
     ]
    }
   ],
   "source": [
    "#日付の計算を行うための\n",
    "\n",
    "#何日前のデータを使用するか\n",
    "days_ago = 0\n",
    "\n",
    "import pandas.tseries.offsets as offsets\n",
    "#csv_file[12] ←今の時点ではforを回していない\n",
    "dir_label = dir + 'route/taketomi_route/isigaki_dep/' + csv_file[12]\n",
    "print(dir_label)\n",
    "def label_df(dir_label) :\n",
    "    \"\"\"\n",
    "    日付ごとの教師データをdfに変換\n",
    "    \n",
    "    parameters\n",
    "    ---------------\n",
    "    dir_label : str\n",
    "        教師データのあるcsvファイルのパス\n",
    "    \"\"\"\n",
    "    df = pd.read_csv(dir_label, header=None)\n",
    "    df[2]= pd.to_datetime(df[2])\n",
    "    print(df)\n",
    "    for i, row in enumerate(df.itertuples()):\n",
    "        print(row[3]+offsets.Day(days_ago))\n",
    "        print(type(row[3]))\n",
    "        date_str = str(row[3]+offsets.Day(days_ago))\n",
    "        date_str = re.sub('(\\d*-\\d*-\\d*) (\\d*:\\d*:\\d*)', '\\\\1', date_str)\n",
    "        print(date_str)\n",
    "        l_col_dup = list(df_top.columns)    #カラムの列をリストで取得\n",
    "        new_columns = [x for x in range(0, len(l_col_dup), 1)]    #0~カラム数分の配列作成\n",
    "        #print(new_columns)\n",
    "        df_top.columns = new_columns    #カラムの入れ替え\n",
    "        #print(df_top[df_top[0] == date_str])\n",
    "        df_x = df_top[df_top[0] == date_str]    #任意の日付の行を0列から抽出\n",
    "        df_y = df.query('index == @i')    #i番目のindex\n",
    "        print(type(df_x),type(df_y))\n",
    "        df_x = df_x.reset_index(drop=True)\n",
    "        df_y = df_y.reset_index(drop=True)\n",
    "        df_result = pd.concat([df_y, df_x], axis=1)\n",
    "        #df_x[0]= pd.to_datetime(df_x[0])\n",
    "        #df_result = pd.merge(df_y, df_x, on=[2,0], how=\"outer\")\n",
    "        #print(df_x)\n",
    "        #print(df_top_i)\n",
    "        if i == 1:\n",
    "            break\n",
    "        #print(row.point)\n",
    "        #if row[0] < \n",
    "    return df_result\n",
    "df_result = label_df(dir_label)\n",
    "#df"
   ]
  },
  {
   "cell_type": "code",
   "execution_count": 127,
   "metadata": {},
   "outputs": [
    {
     "data": {
      "text/plain": [
       "Timestamp('1900-01-01 08:00:00')"
      ]
     },
     "execution_count": 127,
     "metadata": {},
     "output_type": "execute_result"
    }
   ],
   "source": [
    "str_1 = \"08:00:00\"\n",
    "pd.to_datetime(str_1, format=\"%H:%M:%S\")"
   ]
  },
  {
   "cell_type": "code",
   "execution_count": 136,
   "metadata": {},
   "outputs": [
    {
     "name": "stdout",
     "output_type": "stream",
     "text": [
      "2020-08-13\n",
      "<class 'int'>\n",
      "2020-08-13\n",
      "<class 'int'>\n",
      "<class 'int'>\n"
     ]
    },
    {
     "ename": "NameError",
     "evalue": "name 'value_time' is not defined",
     "output_type": "error",
     "traceback": [
      "\u001b[0;31m---------------------------------------------------------------------------\u001b[0m",
      "\u001b[0;31mNameError\u001b[0m                                 Traceback (most recent call last)",
      "\u001b[0;32m<ipython-input-136-62e83ef0fbc3>\u001b[0m in \u001b[0;36m<module>\u001b[0;34m\u001b[0m\n\u001b[1;32m     56\u001b[0m     \u001b[0;32mreturn\u001b[0m \u001b[0mimg_path\u001b[0m\u001b[0;34m,\u001b[0m\u001b[0mdate_list\u001b[0m\u001b[0;34m\u001b[0m\u001b[0;34m\u001b[0m\u001b[0m\n\u001b[1;32m     57\u001b[0m \u001b[0mdf\u001b[0m \u001b[0;34m=\u001b[0m \u001b[0mpd\u001b[0m\u001b[0;34m.\u001b[0m\u001b[0mread_csv\u001b[0m\u001b[0;34m(\u001b[0m\u001b[0mdir_label\u001b[0m\u001b[0;34m,\u001b[0m \u001b[0mheader\u001b[0m\u001b[0;34m=\u001b[0m\u001b[0;32mNone\u001b[0m\u001b[0;34m)\u001b[0m\u001b[0;34m\u001b[0m\u001b[0;34m\u001b[0m\u001b[0m\n\u001b[0;32m---> 58\u001b[0;31m \u001b[0mdf_loop\u001b[0m\u001b[0;34m(\u001b[0m\u001b[0mdf\u001b[0m\u001b[0;34m,\u001b[0m\u001b[0mvalue_time_com\u001b[0m\u001b[0;34m,\u001b[0m\u001b[0mnow_time\u001b[0m\u001b[0;34m)\u001b[0m\u001b[0;34m\u001b[0m\u001b[0;34m\u001b[0m\u001b[0m\n\u001b[0m",
      "\u001b[0;32m<ipython-input-136-62e83ef0fbc3>\u001b[0m in \u001b[0;36mdf_loop\u001b[0;34m(df, value_time_com, img_time)\u001b[0m\n\u001b[1;32m     43\u001b[0m                     \u001b[0mkey\u001b[0m\u001b[0;34m=\u001b[0m\u001b[0;34m\"windy_value\"\u001b[0m\u001b[0;34m\u001b[0m\u001b[0;34m\u001b[0m\u001b[0m\n\u001b[1;32m     44\u001b[0m                 \u001b[0;32melse\u001b[0m\u001b[0;34m:\u001b[0m\u001b[0;34m\u001b[0m\u001b[0;34m\u001b[0m\u001b[0m\n\u001b[0;32m---> 45\u001b[0;31m                     \u001b[0mkey\u001b[0m \u001b[0;34m=\u001b[0m \u001b[0mvalue_time\u001b[0m\u001b[0;34m[\u001b[0m\u001b[0mi\u001b[0m\u001b[0;34m]\u001b[0m\u001b[0;34m\u001b[0m\u001b[0;34m\u001b[0m\u001b[0m\n\u001b[0m\u001b[1;32m     46\u001b[0m                 \u001b[0;31m#img_path.append(\"../data/windy_img/\"+row[3]+\"/\"+atri+\"/\"+row[3]+ \" \" +img_time[i]+\".png\")\u001b[0m\u001b[0;34m\u001b[0m\u001b[0;34m\u001b[0m\u001b[0;34m\u001b[0m\u001b[0m\n\u001b[1;32m     47\u001b[0m                 \u001b[0mdate_list\u001b[0m\u001b[0;34m.\u001b[0m\u001b[0mappend\u001b[0m\u001b[0;34m(\u001b[0m\u001b[0mrow\u001b[0m\u001b[0;34m[\u001b[0m\u001b[0;36m3\u001b[0m\u001b[0;34m]\u001b[0m\u001b[0;34m)\u001b[0m\u001b[0;34m\u001b[0m\u001b[0;34m\u001b[0m\u001b[0m\n",
      "\u001b[0;31mNameError\u001b[0m: name 'value_time' is not defined"
     ]
    }
   ],
   "source": [
    "from datetime import datetime as dt\n",
    "#img_time_com = [\"08:00:00\",\"10:00:00\",\"12:00:00\",\"14:00:00\",\"16:00:00\"]\n",
    "value_time_com = [800,1000,1200,1400,1600]\n",
    "now_time = [\"9:00\",\"11:00\",\"13:00\",\"15:00\",\"17:00\"]\n",
    "def df_loop(df,value_time_com,img_time):\n",
    "    \"\"\"\n",
    "    dataframeを引数にもらいdfの行数分ループしさらにimg_time_com文その中でループ\n",
    "    csvのTimeに近い画像のpathをimg_path変数に格納\n",
    "    \n",
    "    paramenters\n",
    "    -----------\n",
    "    df : DataFrame\n",
    "        csvをdfにしたもので中身\n",
    "        列名[\"Time\",\"Label\",\"Date\"]\n",
    "        要素[07:50,0,2020-08-02]\n",
    "    img_time_com : list[str]\n",
    "        Timeの比較に必要な時間の配列(\"08:00:00\",\"10:00:00\",\"12:00:00\",\"14:00:00\",\"16:00:00\")\n",
    "    now_time : list[str]\n",
    "        比較した結果now_valueのpath記述に必要な時間の文字列(\"9:00\",\"11:00\",\"13:00\",\"15:00\",\"17:00\")\n",
    "    \n",
    "    return\n",
    "    ------\n",
    "    img_path : list[str]\n",
    "        画像のpathの配列\n",
    "    date_list : list[str]\n",
    "        参照先の画像が無い場合にdf内のlabelを削除するために日付を格納\n",
    "    \"\"\"\n",
    "    img_path = []\n",
    "    date_list = []    #画像path参照先に画像がない場合にdf内のlabelを削除するための配列\n",
    "    #df[0] = pd.to_datetime(df[0]) \n",
    "\n",
    "    for row in df.itertuples():    #dfを一行ずつ回す\n",
    "        print(row[3])\n",
    "        #print(row.DateTime)\n",
    "        #for文で回す\n",
    "        for i in range(len(value_time_com)):    #画像の比較のために5回回す\n",
    "           \n",
    "            int_time = int(re.sub(':', '',row[1]))\n",
    "            print(type(int_time))\n",
    "\n",
    "            if int_time < value_time_com[i]:    #航路出発時間 < 数値の取得時間(7:00~17:00)\n",
    "                if 0 == i:\n",
    "                    key=\"windy_value\"\n",
    "                else:\n",
    "                    key = value_time_com[i]\n",
    "                #img_path.append(\"../data/windy_img/\"+row[3]+\"/\"+atri+\"/\"+row[3]+ \" \" +img_time[i]+\".png\")\n",
    "                date_list.append(row[3])\n",
    "                #print(\"../data/windy_img/\"+row[3]+\"/\"+atri+\"/\"+row[3]+ \" \" +img_time[i]+\".png\")\n",
    "                #print(\"True\")\n",
    "                break\n",
    "            elif 4 == i:    #4はimg_time_comのすべてにかからなかった場合最終ループであるのことの確認\n",
    "                #img_path.append(\"../data/windy_img/\"+row[3]+\"/\"+atri+\"/\"+row[3]+ \" \" +img_time[5]+\".png\")\n",
    "                date_list.append(row[3])\n",
    "                #print(\"../data/windy_img/\"+row[3]+\"/\"+atri+\"/\"+row[3]+ \" \" +img_time[5]+\".png\")\n",
    "\n",
    "    return img_path,date_list\n",
    "df = pd.read_csv(dir_label, header=None)\n",
    "df_loop(df,value_time_com,now_time)"
   ]
  },
  {
   "cell_type": "code",
   "execution_count": 81,
   "metadata": {},
   "outputs": [
    {
     "name": "stdout",
     "output_type": "stream",
     "text": [
      "74\n"
     ]
    },
    {
     "data": {
      "text/html": [
       "<div>\n",
       "<style scoped>\n",
       "    .dataframe tbody tr th:only-of-type {\n",
       "        vertical-align: middle;\n",
       "    }\n",
       "\n",
       "    .dataframe tbody tr th {\n",
       "        vertical-align: top;\n",
       "    }\n",
       "\n",
       "    .dataframe thead th {\n",
       "        text-align: right;\n",
       "    }\n",
       "</style>\n",
       "<table border=\"1\" class=\"dataframe\">\n",
       "  <thead>\n",
       "    <tr style=\"text-align: right;\">\n",
       "      <th></th>\n",
       "      <th>0</th>\n",
       "      <th>1</th>\n",
       "      <th>2</th>\n",
       "      <th>0</th>\n",
       "      <th>1</th>\n",
       "      <th>2</th>\n",
       "      <th>3</th>\n",
       "      <th>4</th>\n",
       "      <th>5</th>\n",
       "      <th>6</th>\n",
       "      <th>...</th>\n",
       "      <th>64</th>\n",
       "      <th>65</th>\n",
       "      <th>66</th>\n",
       "      <th>67</th>\n",
       "      <th>68</th>\n",
       "      <th>69</th>\n",
       "      <th>70</th>\n",
       "      <th>71</th>\n",
       "      <th>72</th>\n",
       "      <th>73</th>\n",
       "    </tr>\n",
       "  </thead>\n",
       "  <tbody>\n",
       "    <tr>\n",
       "      <th>0</th>\n",
       "      <td>08:30</td>\n",
       "      <td>0</td>\n",
       "      <td>2020-08-13</td>\n",
       "      <td>2020-08-13</td>\n",
       "      <td>2020-08-14</td>\n",
       "      <td>2020-08-15</td>\n",
       "      <td>2020-08-16</td>\n",
       "      <td>2020-08-17</td>\n",
       "      <td>2020-08-18</td>\n",
       "      <td>2020-08-19</td>\n",
       "      <td>...</td>\n",
       "      <td>11</td>\n",
       "      <td>13</td>\n",
       "      <td>12</td>\n",
       "      <td>11</td>\n",
       "      <td>11.0</td>\n",
       "      <td>14.0</td>\n",
       "      <td>15.0</td>\n",
       "      <td>11.0</td>\n",
       "      <td>10.0</td>\n",
       "      <td>11.0</td>\n",
       "    </tr>\n",
       "  </tbody>\n",
       "</table>\n",
       "<p>1 rows × 77 columns</p>\n",
       "</div>"
      ],
      "text/plain": [
       "      0  1          2           0           1           2           3   \\\n",
       "0  08:30  0 2020-08-13  2020-08-13  2020-08-14  2020-08-15  2020-08-16   \n",
       "\n",
       "           4           5           6   ...  64  65  66  67    68    69    70  \\\n",
       "0  2020-08-17  2020-08-18  2020-08-19  ...  11  13  12  11  11.0  14.0  15.0   \n",
       "\n",
       "     71    72    73  \n",
       "0  11.0  10.0  11.0  \n",
       "\n",
       "[1 rows x 77 columns]"
      ]
     },
     "execution_count": 81,
     "metadata": {},
     "output_type": "execute_result"
    }
   ],
   "source": [
    "#print(df_top[df_top.columns.duplicated(keep=False)])\n",
    "l_col_dup = list(df_top.columns)\n",
    "print(len( l_col_dup))\n",
    "\n",
    "df_result"
   ]
  },
  {
   "cell_type": "code",
   "execution_count": null,
   "metadata": {},
   "outputs": [],
   "source": []
  },
  {
   "cell_type": "code",
   "execution_count": null,
   "metadata": {},
   "outputs": [],
   "source": []
  }
 ],
 "metadata": {
  "kernelspec": {
   "display_name": "Python 3",
   "language": "python",
   "name": "python3"
  },
  "language_info": {
   "codemirror_mode": {
    "name": "ipython",
    "version": 3
   },
   "file_extension": ".py",
   "mimetype": "text/x-python",
   "name": "python",
   "nbconvert_exporter": "python",
   "pygments_lexer": "ipython3",
   "version": "3.7.3"
  }
 },
 "nbformat": 4,
 "nbformat_minor": 4
}
